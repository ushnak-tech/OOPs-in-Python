{
  "nbformat": 4,
  "nbformat_minor": 0,
  "metadata": {
    "colab": {
      "name": "OOPs in Python.ipynb",
      "provenance": []
    },
    "kernelspec": {
      "name": "python3",
      "display_name": "Python 3"
    },
    "language_info": {
      "name": "python"
    }
  },
  "cells": [
    {
      "cell_type": "markdown",
      "source": [
        "# Classes and Instances"
      ],
      "metadata": {
        "id": "Z3E6Vde1E0ba"
      }
    },
    {
      "cell_type": "code",
      "source": [
        "class Employee:\n",
        "  def __init__(self,first,last,pay):    #methods\n",
        "    #Similar to constructors in other languages\n",
        "    self.first=first\n",
        "    self.last=last                        #instance varibales\n",
        "    self.email=first + '.' + last + '@mail.com'\n",
        "    self.pay=pay\n",
        "\n",
        "  def full_name(self):   #every method in a class takes instance as the first argument\n",
        "    print(f'{self.first} {self.last}')\n",
        "\n",
        "\n",
        "e1=Employee('ushna','khan',100000)  #instance of the class\n",
        "\n",
        "\n",
        "print(e1)\n",
        "print(e1.email)   #email isan attribute in here\n",
        "print(f'${e1.pay}')\n",
        "\n",
        "\n",
        "e1.full_name()   #full_name is a method\n",
        "Employee.full_name(e1)\n",
        "\n",
        "# the above two ays of calling a method is same except the fact tha when we use methodwith class, we need to explicitly \n",
        "# pass the instance where as when we call the method with instance, the instance got automatically passed"
      ],
      "metadata": {
        "colab": {
          "base_uri": "https://localhost:8080/"
        },
        "id": "H23nt7hbFfvz",
        "outputId": "90d8ded4-a387-4ef4-b5af-db3f66a5823a"
      },
      "execution_count": null,
      "outputs": [
        {
          "output_type": "stream",
          "name": "stdout",
          "text": [
            "<__main__.Employee object at 0x7f1726eade10>\n",
            "ushna.khan@mail.com\n",
            "$100000\n",
            "ushna khan\n"
          ]
        }
      ]
    },
    {
      "cell_type": "markdown",
      "source": [
        "# Class Variables\n",
        "class variables are the variables that are shared among all the instances of the class"
      ],
      "metadata": {
        "id": "MgvagBEcP7sl"
      }
    },
    {
      "cell_type": "code",
      "execution_count": null,
      "metadata": {
        "id": "YBWVWwxtxmG5",
        "colab": {
          "base_uri": "https://localhost:8080/"
        },
        "outputId": "6680e23e-78fe-4772-fa71-0cdb96ed1a2c"
      },
      "outputs": [
        {
          "output_type": "stream",
          "name": "stdout",
          "text": [
            "100000\n",
            "104000.0\n",
            "{'first': 'ushna', 'last': 'khan', 'email': 'ushna.khan@mail.com', 'pay': 104000.0}\n",
            "1.04\n",
            "1.04\n"
          ]
        }
      ],
      "source": [
        "class Employee:\n",
        "  raise_amount=1.04     #class variable\n",
        "\n",
        "  def __init__(self,first,last,pay):\n",
        "    self.first=first\n",
        "    self.last=last                        #instance varibales\n",
        "    self.email=first + '.' + last + '@mail.com'\n",
        "    self.pay=pay\n",
        "\n",
        "  def full_name(self):   \n",
        "    print(f'{self.first} {self.last}')\n",
        "   \n",
        "  def raise_pay(self):\n",
        "    self.pay=self.pay*self.raise_amount  # here self.raise_amount could also have been written as Employee.raise_amount but we would rather stick to self.\n",
        "                                         # employee so that we can give power to instances to modify values for themselves\n",
        "\n",
        "e1=Employee('ushna','khan',100000)\n",
        "print(e1.pay)\n",
        "e1.raise_pay()\n",
        "print(e1.pay)\n",
        "\n",
        "print(e1.__dict__)\n",
        "print(e1.raise_amount)\n",
        "print(Employee.raise_amount)  #The class variable can be accesses by botth the clas as well as the instance"
      ]
    },
    {
      "cell_type": "markdown",
      "source": [
        "When we change the class variable with the instance it only changes the class variable value for that instance, the class variable remains unchanged for other instances.\n",
        "When we change the class variabe with class, the result is global"
      ],
      "metadata": {
        "id": "OxhREQIoWcz0"
      }
    },
    {
      "cell_type": "code",
      "source": [
        "e1.raise_amount=1.05\n",
        "print(e1.raise_amount)\n",
        "print(Employee.raise_amount)"
      ],
      "metadata": {
        "id": "zn1eQ-rYyDrR",
        "colab": {
          "base_uri": "https://localhost:8080/"
        },
        "outputId": "46249d82-3417-4f47-fd00-5c2b6ba297dc"
      },
      "execution_count": null,
      "outputs": [
        {
          "output_type": "stream",
          "name": "stdout",
          "text": [
            "1.05\n",
            "1.04\n"
          ]
        }
      ]
    },
    {
      "cell_type": "code",
      "source": [
        "class Employee:\n",
        "  num_of_emps=0\n",
        "\n",
        "  def __init__(self,first,last,pay):\n",
        "    self.first=first\n",
        "    self.last=last                        \n",
        "    self.email=first + '.' + last + '@mail.com'\n",
        "    self.pay=pay\n",
        "    Employee.num_of_emps +=1   #Here we are using Employee instead of self, because we dont want to give the authority to instances to change the \n",
        "                               # class variable\n",
        "\n",
        "e1=Employee('ushna','khan',100000)\n",
        "e2=Employee('lubna','khan',100000)\n",
        "e3=Employee('saud','khan',100000)\n",
        "e4=Employee('jugnu','khan',100000)\n",
        "\n",
        "print(Employee.num_of_emps)"
      ],
      "metadata": {
        "id": "5rRFeXV4yDnm",
        "colab": {
          "base_uri": "https://localhost:8080/"
        },
        "outputId": "70adab7a-0347-4248-befb-d8fe43e14162"
      },
      "execution_count": null,
      "outputs": [
        {
          "output_type": "stream",
          "name": "stdout",
          "text": [
            "4\n"
          ]
        }
      ]
    },
    {
      "cell_type": "markdown",
      "source": [
        "# Classmethods and static methods\n"
      ],
      "metadata": {
        "id": "DRUhWAI8ZSsT"
      }
    },
    {
      "cell_type": "code",
      "source": [
        "class employee:\n",
        "  raise_amount=1.05\n",
        "\n",
        "  @classmethod                         #using classmethod decorator to create a class method which takes class as its first argument\n",
        "  def raise_pay(cls,amount):\n",
        "    cls.raise_amount=amount\n",
        "\n",
        "\n",
        "employee.raise_pay(1.05)\n",
        "e1=employee()\n",
        "\n",
        "\n",
        "print(employee.raise_amount)\n",
        "print(e1.raise_amount)"
      ],
      "metadata": {
        "id": "WFPR_Mc9yDkw",
        "colab": {
          "base_uri": "https://localhost:8080/"
        },
        "outputId": "06da1eee-0f82-4bad-8cf2-33857d61c18a"
      },
      "execution_count": null,
      "outputs": [
        {
          "output_type": "stream",
          "name": "stdout",
          "text": [
            "1.05\n",
            "1.05\n"
          ]
        }
      ]
    },
    {
      "cell_type": "markdown",
      "source": [
        "###Example:"
      ],
      "metadata": {
        "id": "ouk38yhzeT89"
      }
    },
    {
      "cell_type": "code",
      "source": [
        "class Employee:\n",
        "\n",
        "  def __init__(self,first,last,pay):\n",
        "    self.first=first\n",
        "    self.last=last                        \n",
        "    self.email=first + '.' + last + '@mail.com'\n",
        "    self.pay=pay\n",
        "\n",
        "emp1='ushna-khan-70000'\n",
        "emp2='lubna-khan-70000'\n",
        "emp3='saud-khan-70000'\n",
        "\n",
        "first,last,pay=emp1.split('-')\n",
        "\n",
        "em1=Employee(first,last,pay)\n",
        "\n",
        "print(em1.email)"
      ],
      "metadata": {
        "id": "rL4bFqkTyDiP",
        "colab": {
          "base_uri": "https://localhost:8080/"
        },
        "outputId": "420a1663-ff69-4679-8377-8fba6d3da178"
      },
      "execution_count": null,
      "outputs": [
        {
          "output_type": "stream",
          "name": "stdout",
          "text": [
            "ushna.khan@mail.com\n"
          ]
        }
      ]
    },
    {
      "cell_type": "markdown",
      "source": [
        "creating an alternative constructor that parse the strings and we dont have to do it manually each time for a new employee"
      ],
      "metadata": {
        "id": "2tNfaN9jhpjG"
      }
    },
    {
      "cell_type": "code",
      "source": [
        "class Employee:\n",
        "\n",
        "  def __init__(self,first,last,pay):\n",
        "    self.first=first\n",
        "    self.last=last                        \n",
        "    self.email=first + '.' + last + '@mail.com'\n",
        "    self.pay=pay\n",
        "\n",
        "  @classmethod\n",
        "  def from_string(cls,string_emp):   #method name starts from 'from'\n",
        "    first,last,pay=emp1.split('-')\n",
        "    return cls(first,last,pay)\n",
        "      \n",
        "emp1='ushna-khan-70000'\n",
        "emp2='lubna-khan-70000'\n",
        "emp3='saud-khan-70000'\n",
        "\n",
        "em1=Employee.from_string(emp1)\n",
        "\n",
        "print(em1.first)"
      ],
      "metadata": {
        "id": "_Eo4VAtRyDfe",
        "colab": {
          "base_uri": "https://localhost:8080/"
        },
        "outputId": "504c6224-5f76-4db1-e829-7878fe7bb102"
      },
      "execution_count": null,
      "outputs": [
        {
          "output_type": "stream",
          "name": "stdout",
          "text": [
            "ushna\n"
          ]
        }
      ]
    },
    {
      "cell_type": "markdown",
      "source": [
        "### Static methods: behave like normal function with no self/cls argument"
      ],
      "metadata": {
        "id": "e8KNbMUUqpcB"
      }
    },
    {
      "cell_type": "code",
      "source": [
        "import datetime"
      ],
      "metadata": {
        "id": "pNNGCKTDx_wM"
      },
      "execution_count": null,
      "outputs": []
    },
    {
      "cell_type": "markdown",
      "source": [
        "we use static method when there is no need of the class or instance is not accessed anywhere in the function"
      ],
      "metadata": {
        "id": "vCX9jxP7yu74"
      }
    },
    {
      "cell_type": "code",
      "source": [
        "class check_weekday:\n",
        "\n",
        "  @staticmethod\n",
        "  def weekday(day):\n",
        "    return (day.weekday()==5 or day.weekday()==6)\n",
        "\n",
        "\n",
        "my_date=datetime.date(2022,7,31)\n",
        "\n",
        "print(check_weekday.weekday(my_date))"
      ],
      "metadata": {
        "id": "WpysDzsnyDXF",
        "colab": {
          "base_uri": "https://localhost:8080/"
        },
        "outputId": "0562ef70-d1e7-41c2-a896-72e4ad29169b"
      },
      "execution_count": null,
      "outputs": [
        {
          "output_type": "stream",
          "name": "stdout",
          "text": [
            "True\n"
          ]
        }
      ]
    },
    {
      "cell_type": "markdown",
      "source": [
        "# Inheritance"
      ],
      "metadata": {
        "id": "GucXFamb0Dqm"
      }
    },
    {
      "cell_type": "markdown",
      "source": [
        "## Method Resolution Order\n",
        "#### MRO is a concept used in inheritance. It is the order in which a method is searched for in a classes hierarchy and is especially useful in Python because Python supports multiple inheritance.\n",
        "\n",
        "#### In Python, the MRO is from bottom to top and left to right. This means that, first, the method is searched in the class of the object. If it’s not found, it is searched in the immediate super class. In the case of multiple super classes, it is searched left to right, in the order by which was declared by the developer."
      ],
      "metadata": {
        "id": "FIjG3v332eq0"
      }
    },
    {
      "cell_type": "code",
      "source": [
        "class Employee:\n",
        "  raise_amount=1.04     \n",
        "\n",
        "  def __init__(self,first,last,pay):\n",
        "    self.first=first\n",
        "    self.last=last                       \n",
        "    self.email=first + '_' + last + '@emaildotcom'\n",
        "    self.pay=pay\n",
        "\n",
        "  def full_name(self):   \n",
        "    print(f'{self.first} {self.last}')\n",
        "   \n",
        "  def raise_pay(self):\n",
        "    self.pay=self.pay*self.raise_amount\n",
        "\n",
        "class Developer(Employee):   #Passing the class as argument whose properties are to be inherited\n",
        "  pass\n",
        "\n",
        "\n",
        "e1=Developer(\"Ushna\",\"Khan\",120000)\n",
        "print(e1.email)\n",
        "\n",
        "print(e1.pay)\n",
        "e1.raise_pay()\n",
        "print(e1.pay)\n",
        "\n"
      ],
      "metadata": {
        "id": "YUiISdOKyDUT",
        "colab": {
          "base_uri": "https://localhost:8080/"
        },
        "outputId": "f6d5f8f0-6ffe-413f-b466-60403ffb4f3b"
      },
      "execution_count": null,
      "outputs": [
        {
          "output_type": "stream",
          "name": "stdout",
          "text": [
            "Ushna_Khan@emaildotcom\n",
            "120000\n",
            "124800.0\n"
          ]
        }
      ]
    },
    {
      "cell_type": "markdown",
      "source": [
        "As can be seen above, we could easily inherit all the properties of the class Employee to the Developer class and successfully accessed the instance variables."
      ],
      "metadata": {
        "id": "pTnLTJwi1We5"
      }
    },
    {
      "cell_type": "code",
      "source": [
        "class Employee:\n",
        "  raise_amount=1.04     \n",
        "\n",
        "  def __init__(self,first,last,pay):\n",
        "    self.first=first\n",
        "    self.last=last                       \n",
        "    self.email=first + '_' + last + '@emaildotcom'\n",
        "    self.pay=pay\n",
        "\n",
        "  def full_name(self):   \n",
        "    print(f'{self.first} {self.last}')\n",
        "   \n",
        "  def raise_pay(self):\n",
        "    self.pay=self.pay*self.raise_amount\n",
        "\n",
        "class Developer(Employee):   \n",
        "  raise_amount=1.10;  #modifying the class variable from the child class\n",
        "\n",
        "\n",
        "# e1=Developer(\"Ushna\",\"Khan\",120000)\n",
        "# e1.raise_pay()\n",
        "# print(e1.pay)   #in this case the raised_pay method took argument from the developer class because the object was created using that class\n",
        "\n",
        "\n",
        "\n",
        "# if we make object of employee class then the raise_pay would take the argument from that class\n",
        "\n",
        "e1=Employee(\"Ushna\",\"Khan\",120000)\n",
        "e1.raise_pay()\n",
        "print(e1.pay)"
      ],
      "metadata": {
        "id": "C2_tycpbyDRi",
        "colab": {
          "base_uri": "https://localhost:8080/"
        },
        "outputId": "eab21a1a-b22e-4d45-acd0-caa102079f2e"
      },
      "execution_count": null,
      "outputs": [
        {
          "output_type": "stream",
          "name": "stdout",
          "text": [
            "124800.0\n"
          ]
        }
      ]
    },
    {
      "cell_type": "code",
      "source": [
        "class Employee:\n",
        "  raise_amount=1.04     \n",
        "\n",
        "  def __init__(self,first,last,pay):\n",
        "    self.first=first\n",
        "    self.last=last                       \n",
        "    self.email=first + '_' + last + '@emaildotcom'\n",
        "    self.pay=pay\n",
        "\n",
        "  def full_name(self):   \n",
        "    print(f'{self.first} {self.last}')\n",
        "   \n",
        "  def raise_pay(self):\n",
        "    self.pay=self.pay*self.raise_amount\n",
        "\n",
        "class Developer(Employee):   \n",
        "  def __init__(self,first,last,pay,prog_lang):\n",
        "    super().__init__(first,last,pay)\n",
        "    self.prog_lang=prog_lang\n",
        "\n",
        "\n",
        "e1=Developer(\"Ushna\",\"Khan\",120000,'Python')\n",
        "\n",
        "print(e1.email)   \n",
        "print(e1.prog_lang)\n",
        "\n",
        "\n"
      ],
      "metadata": {
        "id": "1rmUuCsYyDNd",
        "colab": {
          "base_uri": "https://localhost:8080/"
        },
        "outputId": "5f2cf15c-9982-4f2c-a09c-6b4946a5df67"
      },
      "execution_count": null,
      "outputs": [
        {
          "output_type": "stream",
          "name": "stdout",
          "text": [
            "Ushna_Khan@emaildotcom\n",
            "Python\n"
          ]
        }
      ]
    },
    {
      "cell_type": "markdown",
      "source": [
        "#### Creating another subclass"
      ],
      "metadata": {
        "id": "uN1Z7ozbb9zy"
      }
    },
    {
      "cell_type": "code",
      "source": [
        "class Employee:\n",
        "  raise_amount=1.04     \n",
        "\n",
        "  def __init__(self,first,last,pay):\n",
        "    self.first=first\n",
        "    self.last=last                       \n",
        "    self.email=first + '_' + last + '@emaildotcom'\n",
        "    self.pay=pay\n",
        "\n",
        "  def full_name(self):   \n",
        "    print(f'{self.first} {self.last}')\n",
        "   \n",
        "  def raise_pay(self):\n",
        "    self.pay=self.pay*self.raise_amount\n",
        "\n",
        "\n",
        "\n",
        "class Developer(Employee):   \n",
        "  def __init__(self,first,last,pay,prog_lang):\n",
        "    super().__init__(first,last,pay)\n",
        "    self.prog_lang=prog_lang\n",
        "\n",
        "\n",
        "\n",
        "class Manager(Employee):\n",
        "\n",
        "    def __init__(self, first, last, pay, employees=None):\n",
        "        super().__init__(first, last, pay)\n",
        "        if employees is None:\n",
        "            self.employees = []\n",
        "        else:\n",
        "            self.employees = employees\n",
        "\n",
        "    def add_emp(self, emp):\n",
        "        if emp not in self.employees:\n",
        "            self.employees.append(emp)\n",
        "\n",
        "    def remove_emp(self, emp):\n",
        "        if emp in self.employees:\n",
        "            self.employees.remove(emp)\n",
        "\n",
        "    def print_full_list(self):\n",
        "        for emp in self.employees:\n",
        "            emp.full_name()\n",
        "    \n",
        "e1=Employee('Zoha','Khan',90000)\n",
        "e2=Developer('Azan','Khan',90000,'Python')\n",
        "e3=Employee('Poha','Khan',90000)\n",
        "e4=Employee('Moha','Khan',90000)\n",
        "dev_1 = Developer('Corey', 'Schafer', 50000, 'Python')\n",
        "\n",
        "m1=Manager(\"Ushna\",\"Khan\",120000,[dev_1])\n",
        "\n",
        "print(m1.email)  \n",
        "#adding employees\n",
        "m1.add_emp(e1)\n",
        "m1.add_emp(e2)\n",
        "m1.add_emp(e3)\n",
        "m1.add_emp(e4)\n",
        "print(\"Full list------------->\")\n",
        "m1.print_full_list() \n",
        "m1.remove_emp(e4)  \n",
        "print(\"Full list------------->\")\n",
        "m1.print_full_list()\n",
        "\n",
        "\n",
        "#in this perticular case we stored instance in the list"
      ],
      "metadata": {
        "id": "Up3q_PJxyDJS",
        "colab": {
          "base_uri": "https://localhost:8080/"
        },
        "outputId": "88214365-e3a3-4eb9-d0f7-b33822ecb456"
      },
      "execution_count": null,
      "outputs": [
        {
          "output_type": "stream",
          "name": "stdout",
          "text": [
            "Ushna_Khan@emaildotcom\n",
            "Full list------------->\n",
            "Corey Schafer\n",
            "Zoha Khan\n",
            "Azan Khan\n",
            "Poha Khan\n",
            "Moha Khan\n",
            "Full list------------->\n",
            "Corey Schafer\n",
            "Zoha Khan\n",
            "Azan Khan\n",
            "Poha Khan\n"
          ]
        }
      ]
    },
    {
      "cell_type": "markdown",
      "source": [
        "## `isinstance()` and `issubclass()`"
      ],
      "metadata": {
        "id": "j1B1Zpg9cBTv"
      }
    },
    {
      "cell_type": "markdown",
      "source": [
        "`isinstance()` is used to check if the instance belongs to that class\n",
        "\n",
        "---\n",
        "\n"
      ],
      "metadata": {
        "id": "TwwXbDg0cM7A"
      }
    },
    {
      "cell_type": "code",
      "source": [
        "print(isinstance(m1,Manager))\n",
        "print(isinstance(m1,Employee))\n",
        "print(isinstance(m1,Developer))"
      ],
      "metadata": {
        "id": "d82jMAnMyC_K",
        "colab": {
          "base_uri": "https://localhost:8080/"
        },
        "outputId": "f76f7854-8a43-4a17-db83-921ed5dc285d"
      },
      "execution_count": null,
      "outputs": [
        {
          "output_type": "stream",
          "name": "stdout",
          "text": [
            "True\n",
            "True\n",
            "False\n"
          ]
        }
      ]
    },
    {
      "cell_type": "markdown",
      "source": [
        "`issubclass()` is used to check if a class is a subclass of a class\n",
        "\n",
        "---\n",
        "\n"
      ],
      "metadata": {
        "id": "eDgHWdFTc8L2"
      }
    },
    {
      "cell_type": "code",
      "source": [
        "print(issubclass(Manager,Employee))\n",
        "print(issubclass(Developer,Employee))\n",
        "print(issubclass(Manager,Developer))"
      ],
      "metadata": {
        "id": "llcpbNSfyC70",
        "colab": {
          "base_uri": "https://localhost:8080/"
        },
        "outputId": "c01a8a6d-400b-4a43-c514-cd7711f96de8"
      },
      "execution_count": null,
      "outputs": [
        {
          "output_type": "stream",
          "name": "stdout",
          "text": [
            "True\n",
            "True\n",
            "False\n"
          ]
        }
      ]
    },
    {
      "cell_type": "markdown",
      "source": [
        "#Special (Magic/Dunder) Methods ✅\n",
        "[Link to Tutorial](https://www.youtube.com/watch?v=3ohzBxoFHAY&list=PL-osiE80TeTsqhIuOqKhwlXsIBIdSeYtc&index=5)\n",
        "\n",
        "\n",
        "\n"
      ],
      "metadata": {
        "id": "ElqbnfUReBYN"
      }
    },
    {
      "cell_type": "markdown",
      "source": [
        "* by defining our own special methods, we will be able to change some of the built in behaviours and operations\n",
        "* `__init__()` is also the special method known as dunder init cus of double underscores\n",
        "* ` __repr_()`  and ` __str__()` are yet another two methods that allow us to change how our objects are printed and displayed\n",
        "\n",
        "---"
      ],
      "metadata": {
        "id": "LNQcw5D2hvai"
      }
    },
    {
      "cell_type": "code",
      "source": [
        "class Employee:\n",
        "  raise_amount=1.04     \n",
        "\n",
        "  def __init__(self,first,last,pay):\n",
        "    self.first=first\n",
        "    self.last=last                       \n",
        "    self.email=first + '_' + last + '@emaildotcom'\n",
        "    self.pay=pay\n",
        "\n",
        "  def full_name(self):   \n",
        "    return f'{self.first} {self.last}'\n",
        "   \n",
        "  def raise_pay(self):\n",
        "    self.pay=self.pay*self.raise_amount\n",
        "\n",
        "  def __repr__(self):\n",
        "    return f'Employee({self.first}, {self.last}, {self.pay})'\n",
        "\n",
        "  def __str__(self):\n",
        "    return f'{self.email}-{self.full_name()}'\n",
        "\n",
        "e1=Employee('Corey','Schafer',50000)\n",
        "\n",
        "print(e1) \n",
        "\n",
        "\n",
        "#prints the object without repr and str methods\n",
        "#output--> <__main__.Employee object at 0x7f8cf9211cd0>\n",
        "\n",
        "\n",
        "#with __repr__() method the output is--> Employee(Corey, Schafer, 50000)\n",
        "\n",
        "\n",
        "#with __str__() method the output is--> Corey_Schafer@emaildotcom-Corey Schafer\n",
        "\n",
        "print(repr(e1))\n",
        "print(str(e1))\n"
      ],
      "metadata": {
        "id": "CwpV9pbHyC3k",
        "colab": {
          "base_uri": "https://localhost:8080/"
        },
        "outputId": "f6a2e032-94c2-4558-e1a3-f139a76d7c7c"
      },
      "execution_count": null,
      "outputs": [
        {
          "output_type": "stream",
          "name": "stdout",
          "text": [
            "Corey_Schafer@emaildotcom-Corey Schafer\n",
            "Employee(Corey, Schafer, 50000)\n",
            "Corey_Schafer@emaildotcom-Corey Schafer\n"
          ]
        }
      ]
    },
    {
      "cell_type": "markdown",
      "source": [
        "`__add__()`"
      ],
      "metadata": {
        "id": "zv9YzVkn6R9_"
      }
    },
    {
      "cell_type": "code",
      "source": [
        "class Employee:\n",
        "  raise_amount=1.04     \n",
        "\n",
        "  def __init__(self,first,last,pay):\n",
        "    self.first=first\n",
        "    self.last=last                       \n",
        "    self.email=first + '_' + last + '@emaildotcom'\n",
        "    self.pay=pay\n",
        "\n",
        "  def full_name(self):   \n",
        "    return f'{self.first} {self.last}'\n",
        "\n",
        "  def __add__(self,other):\n",
        "    return self.pay + other.pay\n",
        "\n",
        "e1=Employee('Corey','Schafer',50000)\n",
        "e2=Employee('Test','Employee',20000)\n",
        "\n",
        "print(e1+e2)\n",
        "print(Employee.__add__(e1,e2))"
      ],
      "metadata": {
        "id": "LSBrzZq9yC0Q",
        "colab": {
          "base_uri": "https://localhost:8080/"
        },
        "outputId": "f4241ede-6ff6-4d6f-b1fe-90772c2674c1"
      },
      "execution_count": null,
      "outputs": [
        {
          "output_type": "stream",
          "name": "stdout",
          "text": [
            "70000\n",
            "70000\n"
          ]
        }
      ]
    },
    {
      "cell_type": "code",
      "source": [
        "#Example\n",
        "print(len('Hello World'))\n",
        "\n",
        "print('Hello World'.__len__())"
      ],
      "metadata": {
        "id": "qmpK9njByCxR",
        "colab": {
          "base_uri": "https://localhost:8080/"
        },
        "outputId": "c713111a-490b-4435-dad8-fa216e2e9e6b"
      },
      "execution_count": null,
      "outputs": [
        {
          "output_type": "stream",
          "name": "stdout",
          "text": [
            "11\n",
            "11\n"
          ]
        }
      ]
    },
    {
      "cell_type": "markdown",
      "source": [
        "---\n",
        "---\n",
        "\n",
        "[link to python documentation for dunder methods](https://docs.python.org/3/reference/datamodel.html#special-method-names)\n",
        "\n",
        "---\n",
        "---\n",
        "\n"
      ],
      "metadata": {
        "id": "96F3WlpaBUjb"
      }
    },
    {
      "cell_type": "markdown",
      "source": [
        "`__len__()`\n",
        "\n"
      ],
      "metadata": {
        "id": "gROGmXtW_ccY"
      }
    },
    {
      "cell_type": "code",
      "source": [
        "class Employee:\n",
        "  raise_amount=1.04     \n",
        "\n",
        "  def __init__(self,first,last,pay):\n",
        "    self.first=first\n",
        "    self.last=last                       \n",
        "    self.email=first + '_' + last + '@emaildotcom'\n",
        "    self.pay=pay\n",
        "\n",
        "  def full_name(self):   \n",
        "    return f'{self.first} {self.last}'\n",
        "\n",
        "  def __len__(self):\n",
        "    return len(self.full_name())\n",
        "\n",
        "e1=Employee('Corey','Schafer',50000)\n",
        "\n",
        "print(len(e1))\n",
        "print(e1.__len__())"
      ],
      "metadata": {
        "colab": {
          "base_uri": "https://localhost:8080/"
        },
        "id": "0shfLfUU_nZB",
        "outputId": "f6c3264f-a32c-4915-a810-0f1c44d0967a"
      },
      "execution_count": null,
      "outputs": [
        {
          "output_type": "stream",
          "name": "stdout",
          "text": [
            "13\n",
            "13\n"
          ]
        }
      ]
    },
    {
      "cell_type": "markdown",
      "source": [
        "# Property Decorators - \n",
        "* Getters\n",
        "* Setters\n",
        "* Deleters\n",
        "---\n",
        "[Tutorial Link](https://www.youtube.com/watch?v=jCzT9XFZ5bw&list=PL-osiE80TeTsqhIuOqKhwlXsIBIdSeYtc&index=6)\n",
        "\n",
        "---"
      ],
      "metadata": {
        "id": "GmQm06pwBBcb"
      }
    },
    {
      "cell_type": "markdown",
      "source": [
        "property decorators allows us to define a method but we can access it like an attribute"
      ],
      "metadata": {
        "id": "A5XZ1jRpEpSa"
      }
    },
    {
      "cell_type": "code",
      "source": [
        "class Employee:\n",
        "  raise_amount=1.04     \n",
        "\n",
        "  def __init__(self,first,last):\n",
        "    self.first=first\n",
        "    self.last=last                       \n",
        "    self.email=first + '_' + last + '@emaildotcom'\n",
        "\n",
        "  def full_name(self):   \n",
        "    return f'{self.first} {self.last}'\n",
        "\n",
        "e1=Employee('Corey','Schafer')\n",
        "\n",
        "e1.first='Jim'\n",
        "print(e1.email)\n",
        "print(e1.full_name())"
      ],
      "metadata": {
        "colab": {
          "base_uri": "https://localhost:8080/"
        },
        "id": "EFYIP6Wg_nV1",
        "outputId": "b4a9587d-a58e-4f96-9964-aba2234e039b"
      },
      "execution_count": null,
      "outputs": [
        {
          "output_type": "stream",
          "name": "stdout",
          "text": [
            "Corey_Schafer@emaildotcom\n",
            "Jim Schafer\n"
          ]
        }
      ]
    },
    {
      "cell_type": "markdown",
      "source": [
        "In the example above when we changed the name of the e1 instance and tried to access the email, we noticed, the full_name method did worked on changes but the email attribute did not changed. So, in such case, we might be tempted to create an email method so that the changes appear in the email part as well, but doing so would create problem for other code pieces where email was called as an attribute. Here `@property` *decorator* comes handy **that allows us to define a method but give us the accessibility to call it as an attribute**."
      ],
      "metadata": {
        "id": "JKBNO4r3Fuok"
      }
    },
    {
      "cell_type": "code",
      "source": [
        "class Employee:\n",
        "  raise_amount=1.04     \n",
        "\n",
        "  def __init__(self,first,last):\n",
        "    self.first=first\n",
        "    self.last=last\n",
        "    \n",
        "  @property\n",
        "  def email(self): \n",
        "    return f'{self.first}_{self.last}@emaildotcom'\n",
        "\n",
        "  def full_name(self):   \n",
        "    return f'{self.first} {self.last}'\n",
        "\n",
        "e1=Employee('Corey','Schafer')\n",
        "\n",
        "e1.first='Jim'\n",
        "print(e1.email)\n",
        "print(e1.full_name())"
      ],
      "metadata": {
        "colab": {
          "base_uri": "https://localhost:8080/"
        },
        "id": "WcaAh49v_nSv",
        "outputId": "9fa95bd4-0cba-4331-cb32-6c21a15425b8"
      },
      "execution_count": null,
      "outputs": [
        {
          "output_type": "stream",
          "name": "stdout",
          "text": [
            "Jim_Schafer@emaildotcom\n",
            "Jim Schafer\n"
          ]
        }
      ]
    },
    {
      "cell_type": "markdown",
      "source": [
        " ☝ This works ✅"
      ],
      "metadata": {
        "id": "NFomO4r0HS95"
      }
    },
    {
      "cell_type": "code",
      "source": [
        "class Employee:\n",
        "  raise_amount=1.04     \n",
        "\n",
        "  def __init__(self,first,last):\n",
        "    self.first=first\n",
        "    self.last=last\n",
        "    \n",
        "  @property\n",
        "  def email(self): \n",
        "    return f'{self.first}_{self.last}@emaildotcom'\n",
        "\n",
        "  @property\n",
        "  def full_name(self):   \n",
        "    return f'{self.first} {self.last}'\n",
        "\n",
        "e1=Employee('Corey','Schafer')\n",
        "\n",
        "e1.full_name='Jim Gorey'\n",
        "print(e1.email)\n",
        "print(e1.full_name)"
      ],
      "metadata": {
        "id": "FuufmS8wHfzR",
        "colab": {
          "base_uri": "https://localhost:8080/",
          "height": 235
        },
        "outputId": "684c815f-0778-4c47-9cd0-bc43f3801c8c"
      },
      "execution_count": 79,
      "outputs": [
        {
          "output_type": "error",
          "ename": "AttributeError",
          "evalue": "ignored",
          "traceback": [
            "\u001b[0;31m---------------------------------------------------------------------------\u001b[0m",
            "\u001b[0;31mAttributeError\u001b[0m                            Traceback (most recent call last)",
            "\u001b[0;32m<ipython-input-79-8c45e9f51a78>\u001b[0m in \u001b[0;36m<module>\u001b[0;34m\u001b[0m\n\u001b[1;32m     16\u001b[0m \u001b[0me1\u001b[0m\u001b[0;34m=\u001b[0m\u001b[0mEmployee\u001b[0m\u001b[0;34m(\u001b[0m\u001b[0;34m'Corey'\u001b[0m\u001b[0;34m,\u001b[0m\u001b[0;34m'Schafer'\u001b[0m\u001b[0;34m)\u001b[0m\u001b[0;34m\u001b[0m\u001b[0;34m\u001b[0m\u001b[0m\n\u001b[1;32m     17\u001b[0m \u001b[0;34m\u001b[0m\u001b[0m\n\u001b[0;32m---> 18\u001b[0;31m \u001b[0me1\u001b[0m\u001b[0;34m.\u001b[0m\u001b[0mfull_name\u001b[0m\u001b[0;34m=\u001b[0m\u001b[0;34m'Jim Gorey'\u001b[0m\u001b[0;34m\u001b[0m\u001b[0;34m\u001b[0m\u001b[0m\n\u001b[0m\u001b[1;32m     19\u001b[0m \u001b[0mprint\u001b[0m\u001b[0;34m(\u001b[0m\u001b[0me1\u001b[0m\u001b[0;34m.\u001b[0m\u001b[0memail\u001b[0m\u001b[0;34m)\u001b[0m\u001b[0;34m\u001b[0m\u001b[0;34m\u001b[0m\u001b[0m\n\u001b[1;32m     20\u001b[0m \u001b[0mprint\u001b[0m\u001b[0;34m(\u001b[0m\u001b[0me1\u001b[0m\u001b[0;34m.\u001b[0m\u001b[0mfull_name\u001b[0m\u001b[0;34m)\u001b[0m\u001b[0;34m\u001b[0m\u001b[0;34m\u001b[0m\u001b[0m\n",
            "\u001b[0;31mAttributeError\u001b[0m: can't set attribute"
          ]
        }
      ]
    },
    {
      "cell_type": "markdown",
      "source": [
        "Here it has thrown an error saying it cant set attribute so we need to fix this, so that we can set attribute"
      ],
      "metadata": {
        "id": "rLghBLpPhOx7"
      }
    },
    {
      "cell_type": "code",
      "source": [
        "class Employee:    \n",
        "\n",
        "  def __init__(self,first,last):\n",
        "    self.first=first\n",
        "    self.last=last\n",
        "    \n",
        "  @property\n",
        "  def email(self): \n",
        "    return f'{self.first}_{self.last}@emaildotcom'\n",
        "\n",
        "  @property\n",
        "  def full_name(self):   \n",
        "    return f'{self.first} {self.last}'\n",
        "\n",
        "  @full_name.setter\n",
        "  def full_name(self, name):\n",
        "    first,last=name.split(\" \")\n",
        "    self.first=first\n",
        "    self.last=last\n",
        "\n",
        "  @full_name.deleter\n",
        "  def full_name(self):\n",
        "    print(\"Deleting..\")\n",
        "    self.first=None\n",
        "    self.last=None\n",
        "\n",
        "\n",
        "e1=Employee('Corey','Schafer')\n",
        "\n",
        "e1.full_name='Jim Gorey'\n",
        "print(e1.email)\n",
        "print(e1.full_name)\n",
        "\n",
        "del e1.full_name  \n",
        "print(e1.full_name)"
      ],
      "metadata": {
        "id": "wRNtWtkyHfdr",
        "colab": {
          "base_uri": "https://localhost:8080/"
        },
        "outputId": "3f73d6ee-78ae-4012-a346-b1a57fd96602"
      },
      "execution_count": 89,
      "outputs": [
        {
          "output_type": "stream",
          "name": "stdout",
          "text": [
            "Jim_Gorey@emaildotcom\n",
            "Jim Gorey\n",
            "Deleting..\n",
            "None None\n"
          ]
        }
      ]
    },
    {
      "cell_type": "code",
      "source": [
        "class Employee:\n",
        "    def __init__(self, first, last):\n",
        "        self.first = first\n",
        "        self.last = last\n",
        "    @property\n",
        "    def email(self):\n",
        "        return '{}.{}@email.com'.format(self.first, self.last)\n",
        "    @property\n",
        "    def fullname(self):\n",
        "        return '{} {}'.format(self.first, self.last)\n",
        "\n",
        "    @fullname.setter\n",
        "    def fullname(self, name):\n",
        "        first, last = name.split(' ')\n",
        "        self.first = first\n",
        "        self.last = last\n",
        "\n",
        "    @fullname.deleter\n",
        "    def fullname(self):\n",
        "        print('Delete Name!')\n",
        "        self.first = None\n",
        "        self.last = None\n",
        "\n",
        "\n",
        "emp_1 = Employee('John', 'Smith')\n",
        "emp_1.fullname = \"Corey Schafer\"\n",
        "\n",
        "print(emp_1.first)\n",
        "print(emp_1.email)\n",
        "print(emp_1.fullname)\n",
        "\n",
        "del emp_1.fullname"
      ],
      "metadata": {
        "id": "N1kGghMcHfZ-",
        "colab": {
          "base_uri": "https://localhost:8080/"
        },
        "outputId": "badbad10-787e-4ce8-b36e-a73b555c4185"
      },
      "execution_count": 82,
      "outputs": [
        {
          "output_type": "stream",
          "name": "stdout",
          "text": [
            "Corey\n",
            "Corey.Schafer@email.com\n",
            "Corey Schafer\n",
            "Delete Name!\n"
          ]
        }
      ]
    },
    {
      "cell_type": "code",
      "source": [
        ""
      ],
      "metadata": {
        "id": "bmvVmznkHfTW"
      },
      "execution_count": null,
      "outputs": []
    },
    {
      "cell_type": "code",
      "source": [
        ""
      ],
      "metadata": {
        "id": "PhumF4GeHfPU"
      },
      "execution_count": null,
      "outputs": []
    },
    {
      "cell_type": "code",
      "source": [
        ""
      ],
      "metadata": {
        "id": "aBWEHCzsHfLx"
      },
      "execution_count": null,
      "outputs": []
    },
    {
      "cell_type": "code",
      "source": [
        ""
      ],
      "metadata": {
        "id": "eaFM3wFV_nPk"
      },
      "execution_count": null,
      "outputs": []
    },
    {
      "cell_type": "code",
      "source": [
        ""
      ],
      "metadata": {
        "id": "rarFtM6id_JM"
      },
      "execution_count": null,
      "outputs": []
    }
  ]
}